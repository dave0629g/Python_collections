{
  "nbformat": 4,
  "nbformat_minor": 0,
  "metadata": {
    "colab": {
      "provenance": [],
      "authorship_tag": "ABX9TyM+Zx6XUpdbTkT5RPEUZ5uA",
      "include_colab_link": true
    },
    "kernelspec": {
      "name": "python3",
      "display_name": "Python 3"
    },
    "language_info": {
      "name": "python"
    }
  },
  "cells": [
    {
      "cell_type": "markdown",
      "metadata": {
        "id": "view-in-github",
        "colab_type": "text"
      },
      "source": [
        "<a href=\"https://colab.research.google.com/github/dave0629g/Python_collections/blob/main/Python_tips.ipynb\" target=\"_parent\"><img src=\"https://colab.research.google.com/assets/colab-badge.svg\" alt=\"Open In Colab\"/></a>"
      ]
    },
    {
      "cell_type": "markdown",
      "source": [
        "排序"
      ],
      "metadata": {
        "id": "5SkHeRFBEzAr"
      }
    },
    {
      "cell_type": "code",
      "execution_count": null,
      "metadata": {
        "id": "oNQEzetzA0qL"
      },
      "outputs": [],
      "source": [
        "students = [\n",
        "    (180, 70, 1),\n",
        "    (180, 80, 2),\n",
        "    (170, 75, 3),\n",
        "    (180, 75, 4)\n",
        "]"
      ]
    },
    {
      "cell_type": "code",
      "source": [
        "sorted(students)"
      ],
      "metadata": {
        "colab": {
          "base_uri": "https://localhost:8080/"
        },
        "id": "Dj4FA1DPFSCM",
        "outputId": "f3bb14fe-0c6c-4154-bed8-9fff7162b402"
      },
      "execution_count": null,
      "outputs": [
        {
          "output_type": "execute_result",
          "data": {
            "text/plain": [
              "[(170, 75, 3), (180, 70, 1), (180, 75, 4), (180, 80, 2)]"
            ]
          },
          "metadata": {},
          "execution_count": 10
        }
      ]
    },
    {
      "cell_type": "code",
      "source": [
        "sorted(students, key= lambda t:t[0]) #只有t[0]進行排序"
      ],
      "metadata": {
        "colab": {
          "base_uri": "https://localhost:8080/"
        },
        "id": "68DgLZrrFEdp",
        "outputId": "5fd17d37-5724-478b-d572-5fddf7f80381"
      },
      "execution_count": null,
      "outputs": [
        {
          "output_type": "execute_result",
          "data": {
            "text/plain": [
              "[(170, 75, 3), (180, 70, 1), (180, 80, 2), (180, 75, 4)]"
            ]
          },
          "metadata": {},
          "execution_count": 11
        }
      ]
    },
    {
      "cell_type": "code",
      "source": [
        "sorted(students, key= lambda t:(t[0], t[1])) #t[0]進行排序"
      ],
      "metadata": {
        "colab": {
          "base_uri": "https://localhost:8080/"
        },
        "id": "zPTW-0eLFQQX",
        "outputId": "6aa9404c-dbad-4bcb-9166-bc8d53f1191a"
      },
      "execution_count": null,
      "outputs": [
        {
          "output_type": "execute_result",
          "data": {
            "text/plain": [
              "[(170, 75, 3), (180, 70, 1), (180, 75, 4), (180, 80, 2)]"
            ]
          },
          "metadata": {},
          "execution_count": 14
        }
      ]
    },
    {
      "cell_type": "code",
      "source": [
        "sorted(students, key= lambda t:(t[0], -t[1]))"
      ],
      "metadata": {
        "colab": {
          "base_uri": "https://localhost:8080/"
        },
        "id": "aWBR_xTiGBzA",
        "outputId": "48f0179c-ea1d-447c-f875-a9350918d7ee"
      },
      "execution_count": null,
      "outputs": [
        {
          "output_type": "execute_result",
          "data": {
            "text/plain": [
              "[(170, 75, 3), (180, 80, 2), (180, 75, 4), (180, 70, 1)]"
            ]
          },
          "metadata": {},
          "execution_count": 15
        }
      ]
    },
    {
      "cell_type": "code",
      "source": [],
      "metadata": {
        "id": "IQ7CpMKcGLjM"
      },
      "execution_count": null,
      "outputs": []
    }
  ]
}